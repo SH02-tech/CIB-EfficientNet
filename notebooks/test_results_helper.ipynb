{
 "cells": [
  {
   "cell_type": "code",
   "execution_count": 1,
   "id": "2531f689",
   "metadata": {},
   "outputs": [],
   "source": [
    "import torch\n",
    "import os\n",
    "import matplotlib.pyplot as plt\n",
    "import matplotlib.image as mpimg\n",
    "\n",
    "from utils.visualization import show_hm"
   ]
  },
  {
   "cell_type": "code",
   "execution_count": 30,
   "id": "438e5541",
   "metadata": {},
   "outputs": [],
   "source": [
    "def report_visualizations_hm(eval_data, save_dir: str, top_k: int = 5):\n",
    "\t\"\"\"\n",
    "\tVisualizes the heatmaps from the evaluation data.\n",
    "\t\n",
    "\tParameters:\n",
    "\teval_data (dict): Dictionary containing evaluation data with 'hm' key for heatmaps.\n",
    "\tnum_samples (int): Number of samples to visualize.\n",
    "\t\"\"\"\n",
    "\n",
    "\tif os.path.exists(save_dir):\n",
    "\t\tprint(f\"Directory {save_dir} already exists. Please remove it before running the script.\")\n",
    "\t\treturn\n",
    "\n",
    "\theatmaps = eval_data['heatmaps']\n",
    "\timages = eval_data['images_info']\n",
    "\n",
    "\tfor idx, ((img_name, data), hm_set) in enumerate(zip(images, heatmaps)):\n",
    "\t\t# Get parent folder name from img_name (assuming img_name is a path)\n",
    "\t\tparent_folder = os.path.basename(os.path.dirname(img_name))\n",
    "\t\tsave_path = os.path.join(save_dir, parent_folder)\n",
    "\t\tos.makedirs(save_path, exist_ok=True)\n",
    "\n",
    "\t\t# Save original image\n",
    "\t\tprint(f\"Processing {img_name}...\")\n",
    "\t\timg = mpimg.imread(img_name)\n",
    "\t\timg_save_path = os.path.join(save_path, f\"{os.path.splitext(os.path.basename(img_name))[0]}_orig.png\")\n",
    "\t\tplt.imsave(img_save_path, img)\n",
    "\n",
    "\t\t# Visualize and save top_k heatmaps if available\n",
    "\t\tfor i in range(min(top_k, hm_set.shape[0])):\n",
    "\t\t\thm_save_path = os.path.join(save_path, f\"{os.path.splitext(os.path.basename(img_name))[0]}_hm_{i}.png\")\n",
    "\t\t\tshow_hm(hm_set[i], data, save_path=hm_save_path)"
   ]
  },
  {
   "cell_type": "markdown",
   "id": "dba7f7a9",
   "metadata": {},
   "source": [
    "# 1. Propuesta"
   ]
  },
  {
   "cell_type": "code",
   "execution_count": 36,
   "id": "ce28135e",
   "metadata": {},
   "outputs": [],
   "source": [
    "eval_data = torch.load('data/eval_dict.pth')\n",
    "save_dir = 'tmp/eval_vis/'"
   ]
  },
  {
   "cell_type": "code",
   "execution_count": 37,
   "id": "dc490616",
   "metadata": {},
   "outputs": [
    {
     "name": "stdout",
     "output_type": "stream",
     "text": [
      "Directory tmp/eval_vis/ already exists. Please remove it before running the script.\n"
     ]
    }
   ],
   "source": [
    "report_visualizations_hm(eval_data, save_dir)"
   ]
  },
  {
   "cell_type": "markdown",
   "id": "60071e06",
   "metadata": {},
   "source": [
    "# 2. Baseline"
   ]
  },
  {
   "cell_type": "code",
   "execution_count": 34,
   "id": "1dc9ee7a",
   "metadata": {},
   "outputs": [],
   "source": [
    "eval_data_baseline = torch.load('data/eval_dict_baseline.pth')\n",
    "save_dir_baseline = 'tmp/eval_vis_baseline/'"
   ]
  },
  {
   "cell_type": "code",
   "execution_count": 35,
   "id": "ddf4c728",
   "metadata": {},
   "outputs": [
    {
     "name": "stdout",
     "output_type": "stream",
     "text": [
      "Directory tmp/eval_vis_baseline/ already exists. Please remove it before running the script.\n"
     ]
    }
   ],
   "source": [
    "report_visualizations_hm(eval_data_baseline, save_dir_baseline)"
   ]
  },
  {
   "cell_type": "markdown",
   "id": "52a6e3b7",
   "metadata": {},
   "source": [
    "# 3. Propuesta (-L2)"
   ]
  },
  {
   "cell_type": "code",
   "execution_count": 38,
   "id": "aace6f29",
   "metadata": {},
   "outputs": [],
   "source": [
    "eval_data_l2 = torch.load('data/eval_dict_-l2.pth')\n",
    "save_dir_l2 = 'tmp/eval_vis_l2/'"
   ]
  },
  {
   "cell_type": "code",
   "execution_count": 44,
   "id": "d5a163a1",
   "metadata": {},
   "outputs": [
    {
     "name": "stdout",
     "output_type": "stream",
     "text": [
      "Directory tmp/eval_vis_ortho/ already exists. Please remove it before running the script.\n"
     ]
    }
   ],
   "source": [
    "report_visualizations_hm(eval_data_l2, save_dir_l2)"
   ]
  },
  {
   "cell_type": "markdown",
   "id": "55b29c78",
   "metadata": {},
   "source": [
    "# 4. Propuesta (-ortho)"
   ]
  },
  {
   "cell_type": "code",
   "execution_count": 60,
   "id": "944afdd2",
   "metadata": {},
   "outputs": [],
   "source": [
    "eval_data_ortho = torch.load('data/eval_dict_ortho.pth')\n",
    "save_dir_ortho = 'tmp/eval_vis_ortho/'"
   ]
  },
  {
   "cell_type": "code",
   "execution_count": 61,
   "id": "3a8dc678",
   "metadata": {},
   "outputs": [
    {
     "name": "stdout",
     "output_type": "stream",
     "text": [
      "Directory tmp/eval_vis_ortho/ already exists. Please remove it before running the script.\n"
     ]
    }
   ],
   "source": [
    "report_visualizations_hm(eval_data_ortho, save_dir_ortho)"
   ]
  },
  {
   "cell_type": "markdown",
   "id": "0724186b",
   "metadata": {},
   "source": [
    "# 5. Obtención de tablas conjuntas"
   ]
  },
  {
   "cell_type": "code",
   "execution_count": 57,
   "id": "64200a98",
   "metadata": {},
   "outputs": [],
   "source": [
    "import matplotlib.pyplot as plt\n",
    "import pandas as pd"
   ]
  },
  {
   "cell_type": "code",
   "execution_count": 62,
   "id": "bd73ab1f",
   "metadata": {},
   "outputs": [],
   "source": [
    "model_data = {\n",
    "\t\"baseline\": {\n",
    "\t\t\"accuracy\": eval_data_baseline['accuracy'],\n",
    "\t\t\"rmse\": eval_data_baseline['mean_euclidean_distance']\n",
    "\t},\n",
    "\t\"l2\": {\n",
    "\t\t\"accuracy\": eval_data_l2['accuracy'],\n",
    "\t\t\"rmse\": eval_data_l2['mean_euclidean_distance']\n",
    "\t},\n",
    "\t\"ortho\": {\n",
    "\t\t\"accuracy\": eval_data_ortho['accuracy'],\n",
    "\t\t\"rmse\": eval_data_ortho['mean_euclidean_distance']\n",
    "\t},\n",
    "\t\"propuesta\": {\n",
    "\t\t\"accuracy\": eval_data['accuracy'],\n",
    "\t\t\"rmse\": eval_data['mean_euclidean_distance']\n",
    "\t}\n",
    "}"
   ]
  },
  {
   "cell_type": "code",
   "execution_count": 63,
   "id": "512c216d",
   "metadata": {},
   "outputs": [
    {
     "data": {
      "text/plain": [
       "{'baseline': {'accuracy': 0.8238095238095238, 'rmse': 379.2890319824219},\n",
       " 'l2': {'accuracy': 0.7761904761904762, 'rmse': nan},\n",
       " 'ortho': {'accuracy': 0.7761904761904762, 'rmse': nan},\n",
       " 'propuesta': {'accuracy': 0.8380952380952381, 'rmse': 340.3138732910156}}"
      ]
     },
     "execution_count": 63,
     "metadata": {},
     "output_type": "execute_result"
    }
   ],
   "source": [
    "model_data"
   ]
  },
  {
   "cell_type": "code",
   "execution_count": 54,
   "id": "dc1ed33f",
   "metadata": {},
   "outputs": [
    {
     "data": {
      "text/plain": [
       "{2: 411.6708984375,\n",
       " 3: 402.13323974609375,\n",
       " 4: 395.3708190917969,\n",
       " 5: 385.6431579589844,\n",
       " 6: 376.7080383300781,\n",
       " 7: 369.3328857421875,\n",
       " 8: 364.1813659667969,\n",
       " 9: 356.30322265625,\n",
       " 10: 352.2577209472656}"
      ]
     },
     "execution_count": 54,
     "metadata": {},
     "output_type": "execute_result"
    }
   ],
   "source": [
    "eval_data_baseline['euclidean_distance']"
   ]
  },
  {
   "cell_type": "code",
   "execution_count": 53,
   "id": "4362c14f",
   "metadata": {},
   "outputs": [
    {
     "data": {
      "text/plain": [
       "{2: 349.7494201660156,\n",
       " 3: 341.0770568847656,\n",
       " 4: 335.5000305175781,\n",
       " 5: 336.0099792480469,\n",
       " 6: 341.03436279296875,\n",
       " 7: 340.5645446777344,\n",
       " 8: 339.857421875,\n",
       " 9: 340.83270263671875,\n",
       " 10: 338.1990051269531}"
      ]
     },
     "execution_count": 53,
     "metadata": {},
     "output_type": "execute_result"
    }
   ],
   "source": [
    "eval_data['euclidean_distance']"
   ]
  }
 ],
 "metadata": {
  "kernelspec": {
   "display_name": "Python 3 (ipykernel)",
   "language": "python",
   "name": "python3"
  },
  "language_info": {
   "codemirror_mode": {
    "name": "ipython",
    "version": 3
   },
   "file_extension": ".py",
   "mimetype": "text/x-python",
   "name": "python",
   "nbconvert_exporter": "python",
   "pygments_lexer": "ipython3",
   "version": "3.9.21"
  }
 },
 "nbformat": 4,
 "nbformat_minor": 5
}
